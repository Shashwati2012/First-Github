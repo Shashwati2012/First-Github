{
 "cells": [
  {
   "cell_type": "markdown",
   "metadata": {
    "collapsed": true
   },
   "source": [
    "# Part 2: Data "
   ]
  },
  {
   "cell_type": "markdown",
   "metadata": {},
   "source": [
    "##### Data Requirements"
   ]
  },
  {
   "cell_type": "markdown",
   "metadata": {},
   "source": [
    "The main districts in Paris are divided into 20 Arrondissements Municipaux (administrative districts), shortened to arrondissements.\n",
    "\n",
    "The data regarding the districts in Paris needs to be researched and a suitable useable source identified. If it is found but is not in a useable form, data wrangling and cleaning will have to be performed.\n",
    "\n",
    "The cleansed data will then be used alongside Foursquare data, which is readily available. Foursquare location data will be leveraged to explore or compare districts around Paris, identifying the high traffic areas where consumers go for shopping, dining and entertainment - the areas where the fashion brand are most interested in opening new stores."
   ]
  },
  {
   "cell_type": "markdown",
   "metadata": {},
   "source": [
    "##### The Data Science Workflow for Part 1 & 2 includes the following:\n",
    "\n",
    "  * **Outline the initial data that is required:**  \n",
    "    * District data for Paris including names, location data if available, and any other details required.\n",
    "  * **Obtain the Data:**  \n",
    "    * Research and find suitable sources for the district data for Paris.\n",
    "    * Access and explore the data to determine if it can be manipulated for our purposes.\n",
    "  * **Initial Data Wrangling and Cleaning:**  \n",
    "    * Clean the data and convert to a useable form as a dataframe.\n",
    "**The Data Science Workflow for parts 3 & 4 includes:**  \n",
    "  * **Data Analysis and Location Data:**  \n",
    "    * Foursquare location data will be leveraged to explore or compare districts around Paris.\n",
    "    * Data manipulation and analysis to derive subsets of the initial data.\n",
    "    * Identifying the high traffic areas using data visualisation and tatistical nalysis.\n",
    "  * **Visualization:**  \n",
    "    * Analysis and plotting visualizations.\n",
    "    * Data visualization using various mapping libraries.\n",
    "  * **Discussion and Conclusions:**  \n",
    "    * Recomendations and results based on the data analysis.\n",
    "    * Discussion of any limitations and how the results can be used, and any conclusions that can be drawn."
   ]
  },
  {
   "cell_type": "code",
   "execution_count": null,
   "metadata": {},
   "outputs": [],
   "source": []
  }
 ],
 "metadata": {
  "kernelspec": {
   "display_name": "Python 3.6",
   "language": "python",
   "name": "python3"
  },
  "language_info": {
   "codemirror_mode": {
    "name": "ipython",
    "version": 3
   },
   "file_extension": ".py",
   "mimetype": "text/x-python",
   "name": "python",
   "nbconvert_exporter": "python",
   "pygments_lexer": "ipython3",
   "version": "3.6.8"
  }
 },
 "nbformat": 4,
 "nbformat_minor": 1
}
